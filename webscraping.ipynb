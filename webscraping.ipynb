{
  "nbformat": 4,
  "nbformat_minor": 0,
  "metadata": {
    "colab": {
      "name": "contelligenz",
      "provenance": [],
      "collapsed_sections": [],
      "authorship_tag": "ABX9TyPl4tO+3zeuaQGsrsnP3r0E",
      "include_colab_link": true
    },
    "kernelspec": {
      "name": "python3",
      "display_name": "Python 3"
    },
    "language_info": {
      "name": "python"
    }
  },
  "cells": [
    {
      "cell_type": "markdown",
      "metadata": {
        "id": "view-in-github",
        "colab_type": "text"
      },
      "source": [
        "<a href=\"https://colab.research.google.com/github/JayasreeThyadi/Webscraping-IMDb/blob/main/webscraping.ipynb\" target=\"_parent\"><img src=\"https://colab.research.google.com/assets/colab-badge.svg\" alt=\"Open In Colab\"/></a>"
      ]
    },
    {
      "cell_type": "markdown",
      "metadata": {
        "id": "wO3YYJaNbPJf"
      },
      "source": [
        "## Web Scraping"
      ]
    },
    {
      "cell_type": "code",
      "metadata": {
        "id": "kZ9M2xOqcpJ7"
      },
      "source": [
        "#importing the libraries needed \n",
        "import pandas as pd\n",
        "import numpy as np\n",
        "import requests\n",
        "from bs4 import BeautifulSoup\n",
        "from time import sleep\n",
        "from random import randint"
      ],
      "execution_count": 2,
      "outputs": []
    },
    {
      "cell_type": "code",
      "metadata": {
        "id": "gzOfoeDfbQLk"
      },
      "source": [
        "headers = {\"Accept-Language\": \"en-US,en;q=0.5\"}\n",
        "\n",
        "movie_name = []\n",
        "year = []\n",
        "time=[]\n",
        "rating=[]\n",
        "metascore =[]\n",
        "votes = []\n",
        "gross = []\n",
        "description = []\n",
        "director=[]\n",
        "cast=[]\n",
        "genre=[]\n",
        "\n",
        "pages = np.arange(1,4000,100)\n",
        "\n",
        "for page in pages:\n",
        "    page = requests.get(\"https://www.imdb.com/search/title/?title_type=feature&primary_language=hi&sort=num_votes,desc&start=\"+str(page)+\"&ref_=adv_nxt\")\n",
        "    soup = BeautifulSoup(page.text, 'html.parser')\n",
        "\n",
        "    movie_data = soup.findAll('div', attrs = {'class': 'lister-item mode-advanced'})\n",
        "    sleep(randint(2,8))\n",
        "\n",
        "    for store in movie_data:\n",
        "        name = store.h3.a.text\n",
        "        movie_name.append(name)\n",
        "        \n",
        "        year_of_release = store.h3.find('span', class_ = \"lister-item-year text-muted unbold\").text.strip('()')\n",
        "        year.append(year_of_release)\n",
        "        \n",
        "        runtime = store.p.find(\"span\", class_ = 'runtime').text if store.p.find(\"span\", class_='runtime') else \" \"\n",
        "        time.append(runtime)\n",
        "\n",
        "        genrE = store.p.find(\"span\", class_='genre').text.replace('\\n','') if store.p.find(\"span\", class_='genre') else \" \"\n",
        "        genre.append(genrE)\n",
        "\n",
        "        rate = store.find('div', class_ = \"inline-block ratings-imdb-rating\").text.replace('\\n', '')\n",
        "        rating.append(rate)\n",
        "        \n",
        "        meta = store.find('span', class_ = \"metascore\").text if store.find('span', class_ = \"metascore\") else \" \"\n",
        "        metascore.append(meta)\n",
        "\n",
        "        path = store.find_all('p')\n",
        "\n",
        "        direct = path[2].get_text(strip=True).split('|')[0]\n",
        "        #dirEct = directt.split(':')[1]\n",
        "        director.append(direct)\n",
        "\n",
        "                      \n",
        "        value = store.find_all('span', attrs = {'name': \"nv\"})\n",
        "        \n",
        "        vote = value[0].text\n",
        "        votes.append(vote)\n",
        "        \n",
        "        grosses = value[1].text if len(value)>1 else ' '\n",
        "        gross.append(grosses)\n",
        "        \n",
        "        describe = store.find_all('p', class_ = 'text-muted')\n",
        "        description_ = describe[1].text.replace('\\n', '') if len(describe) >1 else ' '\n",
        "        description.append(description_)\n",
        "            \n",
        "        \n",
        "#creating a dataframe \n",
        "movie_list = pd.DataFrame({ \"Movie Title\": movie_name, \"Year of Release\" : year, \"Director\":director, \"Genre\":genre, \"Runtime\": time,\"IMDb Rating\": rating, \"IMDb Votes\" : votes, \"Metascore\": metascore, \"Gross\": gross, \"Plot Outline\": description  })"
      ],
      "execution_count": 3,
      "outputs": []
    },
    {
      "cell_type": "code",
      "metadata": {
        "colab": {
          "base_uri": "https://localhost:8080/",
          "height": 254
        },
        "id": "GE5JIeQ0bqKs",
        "outputId": "2d8bec06-3e89-4a04-979f-aa066c4da07b"
      },
      "source": [
        "movie_list.head(5)"
      ],
      "execution_count": 4,
      "outputs": [
        {
          "output_type": "execute_result",
          "data": {
            "text/html": [
              "<div>\n",
              "<style scoped>\n",
              "    .dataframe tbody tr th:only-of-type {\n",
              "        vertical-align: middle;\n",
              "    }\n",
              "\n",
              "    .dataframe tbody tr th {\n",
              "        vertical-align: top;\n",
              "    }\n",
              "\n",
              "    .dataframe thead th {\n",
              "        text-align: right;\n",
              "    }\n",
              "</style>\n",
              "<table border=\"1\" class=\"dataframe\">\n",
              "  <thead>\n",
              "    <tr style=\"text-align: right;\">\n",
              "      <th></th>\n",
              "      <th>Movie Title</th>\n",
              "      <th>Year of Release</th>\n",
              "      <th>Director</th>\n",
              "      <th>Genre</th>\n",
              "      <th>Runtime</th>\n",
              "      <th>IMDb Rating</th>\n",
              "      <th>IMDb Votes</th>\n",
              "      <th>Metascore</th>\n",
              "      <th>Gross</th>\n",
              "      <th>Plot Outline</th>\n",
              "    </tr>\n",
              "  </thead>\n",
              "  <tbody>\n",
              "    <tr>\n",
              "      <th>0</th>\n",
              "      <td>3 Idiots</td>\n",
              "      <td>2009</td>\n",
              "      <td>Director:Rajkumar Hirani</td>\n",
              "      <td>Comedy, Drama</td>\n",
              "      <td>170 min</td>\n",
              "      <td>8.4</td>\n",
              "      <td>364,878</td>\n",
              "      <td>67</td>\n",
              "      <td>$6.53M</td>\n",
              "      <td>Two friends are searching for their long lost ...</td>\n",
              "    </tr>\n",
              "    <tr>\n",
              "      <th>1</th>\n",
              "      <td>Like Stars on Earth</td>\n",
              "      <td>2007</td>\n",
              "      <td>Directors:Aamir Khan,Amole Gupte</td>\n",
              "      <td>Drama, Family</td>\n",
              "      <td>165 min</td>\n",
              "      <td>8.4</td>\n",
              "      <td>179,337</td>\n",
              "      <td></td>\n",
              "      <td>$1.22M</td>\n",
              "      <td>An eight-year-old boy is thought to be a lazy ...</td>\n",
              "    </tr>\n",
              "    <tr>\n",
              "      <th>2</th>\n",
              "      <td>PK</td>\n",
              "      <td>2014</td>\n",
              "      <td>Director:Rajkumar Hirani</td>\n",
              "      <td>Comedy, Drama, Musical</td>\n",
              "      <td>153 min</td>\n",
              "      <td>8.1</td>\n",
              "      <td>171,314</td>\n",
              "      <td></td>\n",
              "      <td>$10.62M</td>\n",
              "      <td>An alien on Earth loses the only device he can...</td>\n",
              "    </tr>\n",
              "    <tr>\n",
              "      <th>3</th>\n",
              "      <td>Radhe</td>\n",
              "      <td>2021</td>\n",
              "      <td>Director:Prabhu Deva</td>\n",
              "      <td>Action, Crime, Thriller</td>\n",
              "      <td>135 min</td>\n",
              "      <td>1.8</td>\n",
              "      <td>170,770</td>\n",
              "      <td></td>\n",
              "      <td></td>\n",
              "      <td>After taking the dreaded gangster Gani Bhai, A...</td>\n",
              "    </tr>\n",
              "    <tr>\n",
              "      <th>4</th>\n",
              "      <td>Dangal</td>\n",
              "      <td>2016</td>\n",
              "      <td>Director:Nitesh Tiwari</td>\n",
              "      <td>Action, Biography, Drama</td>\n",
              "      <td>161 min</td>\n",
              "      <td>8.4</td>\n",
              "      <td>169,465</td>\n",
              "      <td></td>\n",
              "      <td>$12.39M</td>\n",
              "      <td>Former wrestler Mahavir Singh Phogat and his t...</td>\n",
              "    </tr>\n",
              "  </tbody>\n",
              "</table>\n",
              "</div>"
            ],
            "text/plain": [
              "           Movie Title  ...                                       Plot Outline\n",
              "0             3 Idiots  ...  Two friends are searching for their long lost ...\n",
              "1  Like Stars on Earth  ...  An eight-year-old boy is thought to be a lazy ...\n",
              "2                   PK  ...  An alien on Earth loses the only device he can...\n",
              "3                Radhe  ...  After taking the dreaded gangster Gani Bhai, A...\n",
              "4               Dangal  ...  Former wrestler Mahavir Singh Phogat and his t...\n",
              "\n",
              "[5 rows x 10 columns]"
            ]
          },
          "metadata": {},
          "execution_count": 4
        }
      ]
    },
    {
      "cell_type": "code",
      "metadata": {
        "id": "WWGRc4XNcFTp"
      },
      "source": [
        "# saving the data in excel format\n",
        "#movie_list.to_excel(\"Top 1000 IMDb movies.xlsx\")\n",
        "\n",
        "# If you want to save the data in csv format\n",
        "movie_list.to_csv(\"IMDb Bollywood Movies List.csv\")"
      ],
      "execution_count": 5,
      "outputs": []
    },
    {
      "cell_type": "code",
      "metadata": {
        "id": "p9JM6GBscONE"
      },
      "source": [
        ""
      ],
      "execution_count": 5,
      "outputs": []
    },
    {
      "cell_type": "markdown",
      "metadata": {
        "id": "jBUBEJWKGJFt"
      },
      "source": [
        "## Exploratory Data Analysis (EDA)"
      ]
    },
    {
      "cell_type": "code",
      "metadata": {
        "id": "YLU_tK1ZGMvu"
      },
      "source": [
        "import numpy as np\n",
        "import pandas as pd\n",
        "import matplotlib.pyplot as plt\n",
        "import seaborn as sns"
      ],
      "execution_count": 54,
      "outputs": []
    },
    {
      "cell_type": "code",
      "metadata": {
        "colab": {
          "resources": {
            "http://localhost:8080/nbextensions/google.colab/files.js": {
              "data": "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",
              "ok": true,
              "headers": [
                [
                  "content-type",
                  "application/javascript"
                ]
              ],
              "status": 200,
              "status_text": ""
            }
          },
          "base_uri": "https://localhost:8080/",
          "height": 73
        },
        "id": "C5o0qU1AGke_",
        "outputId": "94169dd8-a764-4564-e6e1-293bf97f2857"
      },
      "source": [
        "from google.colab import files\n",
        "uplo = files.upload()"
      ],
      "execution_count": 7,
      "outputs": [
        {
          "output_type": "display_data",
          "data": {
            "text/html": [
              "\n",
              "     <input type=\"file\" id=\"files-06026436-801e-40b8-9532-f7aa26edc95d\" name=\"files[]\" multiple disabled\n",
              "        style=\"border:none\" />\n",
              "     <output id=\"result-06026436-801e-40b8-9532-f7aa26edc95d\">\n",
              "      Upload widget is only available when the cell has been executed in the\n",
              "      current browser session. Please rerun this cell to enable.\n",
              "      </output>\n",
              "      <script src=\"/nbextensions/google.colab/files.js\"></script> "
            ],
            "text/plain": [
              "<IPython.core.display.HTML object>"
            ]
          },
          "metadata": {}
        },
        {
          "output_type": "stream",
          "text": [
            "Saving IMDb Bollywood Movies List.csv to IMDb Bollywood Movies List (1).csv\n"
          ],
          "name": "stdout"
        }
      ]
    },
    {
      "cell_type": "code",
      "metadata": {
        "colab": {
          "base_uri": "https://localhost:8080/",
          "height": 161
        },
        "id": "y12noV7bGrRc",
        "outputId": "371a36e7-c016-45ff-ac9e-0e390e93030d"
      },
      "source": [
        "movies = pd.read_csv('IMDb Bollywood Movies List (1).csv')\n",
        "movies.head(2)"
      ],
      "execution_count": 9,
      "outputs": [
        {
          "output_type": "execute_result",
          "data": {
            "text/html": [
              "<div>\n",
              "<style scoped>\n",
              "    .dataframe tbody tr th:only-of-type {\n",
              "        vertical-align: middle;\n",
              "    }\n",
              "\n",
              "    .dataframe tbody tr th {\n",
              "        vertical-align: top;\n",
              "    }\n",
              "\n",
              "    .dataframe thead th {\n",
              "        text-align: right;\n",
              "    }\n",
              "</style>\n",
              "<table border=\"1\" class=\"dataframe\">\n",
              "  <thead>\n",
              "    <tr style=\"text-align: right;\">\n",
              "      <th></th>\n",
              "      <th>Unnamed: 0</th>\n",
              "      <th>Movie_Title</th>\n",
              "      <th>Year_of_Release</th>\n",
              "      <th>Director</th>\n",
              "      <th>Genre</th>\n",
              "      <th>Runtime</th>\n",
              "      <th>IMDb_Rating</th>\n",
              "      <th>IMDb_Votes</th>\n",
              "      <th>Metascore</th>\n",
              "      <th>Gross</th>\n",
              "      <th>Plot_Outline</th>\n",
              "    </tr>\n",
              "  </thead>\n",
              "  <tbody>\n",
              "    <tr>\n",
              "      <th>0</th>\n",
              "      <td>0</td>\n",
              "      <td>3 Idiots</td>\n",
              "      <td>2009</td>\n",
              "      <td>Director:Rajkumar Hirani</td>\n",
              "      <td>Comedy, Drama</td>\n",
              "      <td>170 min</td>\n",
              "      <td>8.4</td>\n",
              "      <td>3,64,795</td>\n",
              "      <td>67</td>\n",
              "      <td>$6.53M</td>\n",
              "      <td>Two friends are searching for their long lost ...</td>\n",
              "    </tr>\n",
              "    <tr>\n",
              "      <th>1</th>\n",
              "      <td>1</td>\n",
              "      <td>Like Stars on Earth</td>\n",
              "      <td>2007</td>\n",
              "      <td>Directors:Aamir Khan,Amole Gupte</td>\n",
              "      <td>Drama, Family</td>\n",
              "      <td>165 min</td>\n",
              "      <td>8.4</td>\n",
              "      <td>1,79,308</td>\n",
              "      <td></td>\n",
              "      <td>$1.22M</td>\n",
              "      <td>An eight-year-old boy is thought to be a lazy ...</td>\n",
              "    </tr>\n",
              "  </tbody>\n",
              "</table>\n",
              "</div>"
            ],
            "text/plain": [
              "   Unnamed: 0  ...                                       Plot_Outline\n",
              "0           0  ...  Two friends are searching for their long lost ...\n",
              "1           1  ...  An eight-year-old boy is thought to be a lazy ...\n",
              "\n",
              "[2 rows x 11 columns]"
            ]
          },
          "metadata": {},
          "execution_count": 9
        }
      ]
    },
    {
      "cell_type": "code",
      "metadata": {
        "colab": {
          "base_uri": "https://localhost:8080/"
        },
        "id": "Efi8-bZiG207",
        "outputId": "e2c6ce88-8d01-4bf6-e92a-0443c3cb721c"
      },
      "source": [
        "movies.shape"
      ],
      "execution_count": 10,
      "outputs": [
        {
          "output_type": "execute_result",
          "data": {
            "text/plain": [
              "(2000, 11)"
            ]
          },
          "metadata": {},
          "execution_count": 10
        }
      ]
    },
    {
      "cell_type": "code",
      "metadata": {
        "colab": {
          "base_uri": "https://localhost:8080/"
        },
        "id": "fJ8c6t8nG_Sl",
        "outputId": "3c78b1e5-a58f-4853-c361-75b56ad0e090"
      },
      "source": [
        "movies.info()"
      ],
      "execution_count": 11,
      "outputs": [
        {
          "output_type": "stream",
          "text": [
            "<class 'pandas.core.frame.DataFrame'>\n",
            "RangeIndex: 2000 entries, 0 to 1999\n",
            "Data columns (total 11 columns):\n",
            " #   Column           Non-Null Count  Dtype  \n",
            "---  ------           --------------  -----  \n",
            " 0   Unnamed: 0       2000 non-null   int64  \n",
            " 1   Movie_Title      2000 non-null   object \n",
            " 2   Year_of_Release  2000 non-null   object \n",
            " 3   Director         1998 non-null   object \n",
            " 4   Genre            2000 non-null   object \n",
            " 5   Runtime          2000 non-null   object \n",
            " 6   IMDb_Rating      2000 non-null   float64\n",
            " 7   IMDb_Votes       2000 non-null   object \n",
            " 8   Metascore        2000 non-null   object \n",
            " 9   Gross            2000 non-null   object \n",
            " 10  Plot_Outline     2000 non-null   object \n",
            "dtypes: float64(1), int64(1), object(9)\n",
            "memory usage: 172.0+ KB\n"
          ],
          "name": "stdout"
        }
      ]
    },
    {
      "cell_type": "code",
      "metadata": {
        "colab": {
          "base_uri": "https://localhost:8080/"
        },
        "id": "-YklaTieHBDX",
        "outputId": "66bcb29e-5c05-4d9b-bcaa-5cd23041ed65"
      },
      "source": [
        "#column-wise null count here\n",
        "movies.isnull().sum(axis=0).sort_values(ascending=False)"
      ],
      "execution_count": 12,
      "outputs": [
        {
          "output_type": "execute_result",
          "data": {
            "text/plain": [
              "Director           2\n",
              "Plot_Outline       0\n",
              "Gross              0\n",
              "Metascore          0\n",
              "IMDb_Votes         0\n",
              "IMDb_Rating        0\n",
              "Runtime            0\n",
              "Genre              0\n",
              "Year_of_Release    0\n",
              "Movie_Title        0\n",
              "Unnamed: 0         0\n",
              "dtype: int64"
            ]
          },
          "metadata": {},
          "execution_count": 12
        }
      ]
    },
    {
      "cell_type": "code",
      "metadata": {
        "colab": {
          "base_uri": "https://localhost:8080/"
        },
        "id": "x1MQQsSoHKOZ",
        "outputId": "f06e912c-683d-4dbc-ae38-710d5eff99e9"
      },
      "source": [
        "# row-wise null count here\n",
        "movies.isnull().sum(axis=1).sort_values(ascending=False)"
      ],
      "execution_count": 13,
      "outputs": [
        {
          "output_type": "execute_result",
          "data": {
            "text/plain": [
              "1628    1\n",
              "1710    1\n",
              "1999    0\n",
              "669     0\n",
              "657     0\n",
              "       ..\n",
              "1336    0\n",
              "1337    0\n",
              "1338    0\n",
              "1339    0\n",
              "0       0\n",
              "Length: 2000, dtype: int64"
            ]
          },
          "metadata": {},
          "execution_count": 13
        }
      ]
    },
    {
      "cell_type": "code",
      "metadata": {
        "colab": {
          "base_uri": "https://localhost:8080/"
        },
        "id": "npyh_Zk5HgsV",
        "outputId": "ccf2f645-c2e5-4671-c02b-e6cc619aed31"
      },
      "source": [
        "# col wise null percentage\n",
        "movies.isnull().sum(axis=0).sort_values(ascending=False)/len(movies) * 100"
      ],
      "execution_count": 14,
      "outputs": [
        {
          "output_type": "execute_result",
          "data": {
            "text/plain": [
              "Director           0.1\n",
              "Plot_Outline       0.0\n",
              "Gross              0.0\n",
              "Metascore          0.0\n",
              "IMDb_Votes         0.0\n",
              "IMDb_Rating        0.0\n",
              "Runtime            0.0\n",
              "Genre              0.0\n",
              "Year_of_Release    0.0\n",
              "Movie_Title        0.0\n",
              "Unnamed: 0         0.0\n",
              "dtype: float64"
            ]
          },
          "metadata": {},
          "execution_count": 14
        }
      ]
    },
    {
      "cell_type": "code",
      "metadata": {
        "colab": {
          "base_uri": "https://localhost:8080/"
        },
        "id": "Pwl0hODxHpiQ",
        "outputId": "62a6d9a5-7eee-44f8-ea7f-ca0b196f388b"
      },
      "source": [
        "round(movies.isnull().sum().sort_values(ascending=False)/len(movies)*100,2)"
      ],
      "execution_count": 15,
      "outputs": [
        {
          "output_type": "execute_result",
          "data": {
            "text/plain": [
              "Director           0.1\n",
              "Plot_Outline       0.0\n",
              "Gross              0.0\n",
              "Metascore          0.0\n",
              "IMDb_Votes         0.0\n",
              "IMDb_Rating        0.0\n",
              "Runtime            0.0\n",
              "Genre              0.0\n",
              "Year_of_Release    0.0\n",
              "Movie_Title        0.0\n",
              "Unnamed: 0         0.0\n",
              "dtype: float64"
            ]
          },
          "metadata": {},
          "execution_count": 15
        }
      ]
    },
    {
      "cell_type": "code",
      "metadata": {
        "colab": {
          "base_uri": "https://localhost:8080/"
        },
        "id": "zP30mAW9Hz0y",
        "outputId": "7a58afae-e054-4416-9a46-2746b80a7917"
      },
      "source": [
        "(movies.isnull().sum(axis=1).sort_values(ascending=False) > 5).sum()"
      ],
      "execution_count": 16,
      "outputs": [
        {
          "output_type": "execute_result",
          "data": {
            "text/plain": [
              "0"
            ]
          },
          "metadata": {},
          "execution_count": 16
        }
      ]
    },
    {
      "cell_type": "code",
      "metadata": {
        "colab": {
          "base_uri": "https://localhost:8080/",
          "height": 338
        },
        "id": "pLcUNSPEIHiX",
        "outputId": "2eae61c2-a429-49cd-800e-a7a76e5265c1"
      },
      "source": [
        "movies = movies[movies.isnull().sum(axis=1).sort_values(ascending=False) <= 5]\n",
        "movies.head(5)"
      ],
      "execution_count": 17,
      "outputs": [
        {
          "output_type": "stream",
          "text": [
            "/usr/local/lib/python3.7/dist-packages/ipykernel_launcher.py:1: UserWarning: Boolean Series key will be reindexed to match DataFrame index.\n",
            "  \"\"\"Entry point for launching an IPython kernel.\n"
          ],
          "name": "stderr"
        },
        {
          "output_type": "execute_result",
          "data": {
            "text/html": [
              "<div>\n",
              "<style scoped>\n",
              "    .dataframe tbody tr th:only-of-type {\n",
              "        vertical-align: middle;\n",
              "    }\n",
              "\n",
              "    .dataframe tbody tr th {\n",
              "        vertical-align: top;\n",
              "    }\n",
              "\n",
              "    .dataframe thead th {\n",
              "        text-align: right;\n",
              "    }\n",
              "</style>\n",
              "<table border=\"1\" class=\"dataframe\">\n",
              "  <thead>\n",
              "    <tr style=\"text-align: right;\">\n",
              "      <th></th>\n",
              "      <th>Unnamed: 0</th>\n",
              "      <th>Movie_Title</th>\n",
              "      <th>Year_of_Release</th>\n",
              "      <th>Director</th>\n",
              "      <th>Genre</th>\n",
              "      <th>Runtime</th>\n",
              "      <th>IMDb_Rating</th>\n",
              "      <th>IMDb_Votes</th>\n",
              "      <th>Metascore</th>\n",
              "      <th>Gross</th>\n",
              "      <th>Plot_Outline</th>\n",
              "    </tr>\n",
              "  </thead>\n",
              "  <tbody>\n",
              "    <tr>\n",
              "      <th>0</th>\n",
              "      <td>0</td>\n",
              "      <td>3 Idiots</td>\n",
              "      <td>2009</td>\n",
              "      <td>Director:Rajkumar Hirani</td>\n",
              "      <td>Comedy, Drama</td>\n",
              "      <td>170 min</td>\n",
              "      <td>8.4</td>\n",
              "      <td>3,64,795</td>\n",
              "      <td>67</td>\n",
              "      <td>$6.53M</td>\n",
              "      <td>Two friends are searching for their long lost ...</td>\n",
              "    </tr>\n",
              "    <tr>\n",
              "      <th>1</th>\n",
              "      <td>1</td>\n",
              "      <td>Like Stars on Earth</td>\n",
              "      <td>2007</td>\n",
              "      <td>Directors:Aamir Khan,Amole Gupte</td>\n",
              "      <td>Drama, Family</td>\n",
              "      <td>165 min</td>\n",
              "      <td>8.4</td>\n",
              "      <td>1,79,308</td>\n",
              "      <td></td>\n",
              "      <td>$1.22M</td>\n",
              "      <td>An eight-year-old boy is thought to be a lazy ...</td>\n",
              "    </tr>\n",
              "    <tr>\n",
              "      <th>2</th>\n",
              "      <td>2</td>\n",
              "      <td>PK</td>\n",
              "      <td>2014</td>\n",
              "      <td>Director:Rajkumar Hirani</td>\n",
              "      <td>Comedy, Drama, Musical</td>\n",
              "      <td>153 min</td>\n",
              "      <td>8.1</td>\n",
              "      <td>1,71,288</td>\n",
              "      <td></td>\n",
              "      <td>$10.62M</td>\n",
              "      <td>An alien on Earth loses the only device he can...</td>\n",
              "    </tr>\n",
              "    <tr>\n",
              "      <th>3</th>\n",
              "      <td>3</td>\n",
              "      <td>Radhe</td>\n",
              "      <td>2021</td>\n",
              "      <td>Director:Prabhu Deva</td>\n",
              "      <td>Action, Crime, Thriller</td>\n",
              "      <td>135 min</td>\n",
              "      <td>1.8</td>\n",
              "      <td>1,70,717</td>\n",
              "      <td></td>\n",
              "      <td></td>\n",
              "      <td>After taking the dreaded gangster Gani Bhai, A...</td>\n",
              "    </tr>\n",
              "    <tr>\n",
              "      <th>4</th>\n",
              "      <td>4</td>\n",
              "      <td>Dangal</td>\n",
              "      <td>2016</td>\n",
              "      <td>Director:Nitesh Tiwari</td>\n",
              "      <td>Action, Biography, Drama</td>\n",
              "      <td>161 min</td>\n",
              "      <td>8.4</td>\n",
              "      <td>1,69,425</td>\n",
              "      <td></td>\n",
              "      <td>$12.39M</td>\n",
              "      <td>Former wrestler Mahavir Singh Phogat and his t...</td>\n",
              "    </tr>\n",
              "  </tbody>\n",
              "</table>\n",
              "</div>"
            ],
            "text/plain": [
              "   Unnamed: 0  ...                                       Plot_Outline\n",
              "0           0  ...  Two friends are searching for their long lost ...\n",
              "1           1  ...  An eight-year-old boy is thought to be a lazy ...\n",
              "2           2  ...  An alien on Earth loses the only device he can...\n",
              "3           3  ...  After taking the dreaded gangster Gani Bhai, A...\n",
              "4           4  ...  Former wrestler Mahavir Singh Phogat and his t...\n",
              "\n",
              "[5 rows x 11 columns]"
            ]
          },
          "metadata": {},
          "execution_count": 17
        }
      ]
    },
    {
      "cell_type": "code",
      "metadata": {
        "colab": {
          "base_uri": "https://localhost:8080/",
          "height": 417
        },
        "id": "bpqbI1rzJDgo",
        "outputId": "071247e8-714f-4d8b-bd4b-944c43d6915c"
      },
      "source": [
        "\n",
        "TempGenre = movies.Genre.str.split(',',expand=True).iloc[:,0:2]\n",
        "TempGenre.columns=['genre_1','genre_2']\n",
        "TempGenre.genre_2.fillna(TempGenre.genre_1,inplace=True)\n",
        "TempGenre"
      ],
      "execution_count": 18,
      "outputs": [
        {
          "output_type": "execute_result",
          "data": {
            "text/html": [
              "<div>\n",
              "<style scoped>\n",
              "    .dataframe tbody tr th:only-of-type {\n",
              "        vertical-align: middle;\n",
              "    }\n",
              "\n",
              "    .dataframe tbody tr th {\n",
              "        vertical-align: top;\n",
              "    }\n",
              "\n",
              "    .dataframe thead th {\n",
              "        text-align: right;\n",
              "    }\n",
              "</style>\n",
              "<table border=\"1\" class=\"dataframe\">\n",
              "  <thead>\n",
              "    <tr style=\"text-align: right;\">\n",
              "      <th></th>\n",
              "      <th>genre_1</th>\n",
              "      <th>genre_2</th>\n",
              "    </tr>\n",
              "  </thead>\n",
              "  <tbody>\n",
              "    <tr>\n",
              "      <th>0</th>\n",
              "      <td>Comedy</td>\n",
              "      <td>Drama</td>\n",
              "    </tr>\n",
              "    <tr>\n",
              "      <th>1</th>\n",
              "      <td>Drama</td>\n",
              "      <td>Family</td>\n",
              "    </tr>\n",
              "    <tr>\n",
              "      <th>2</th>\n",
              "      <td>Comedy</td>\n",
              "      <td>Drama</td>\n",
              "    </tr>\n",
              "    <tr>\n",
              "      <th>3</th>\n",
              "      <td>Action</td>\n",
              "      <td>Crime</td>\n",
              "    </tr>\n",
              "    <tr>\n",
              "      <th>4</th>\n",
              "      <td>Action</td>\n",
              "      <td>Biography</td>\n",
              "    </tr>\n",
              "    <tr>\n",
              "      <th>...</th>\n",
              "      <td>...</td>\n",
              "      <td>...</td>\n",
              "    </tr>\n",
              "    <tr>\n",
              "      <th>1995</th>\n",
              "      <td>Horror</td>\n",
              "      <td>Mystery</td>\n",
              "    </tr>\n",
              "    <tr>\n",
              "      <th>1996</th>\n",
              "      <td>Romance</td>\n",
              "      <td>Romance</td>\n",
              "    </tr>\n",
              "    <tr>\n",
              "      <th>1997</th>\n",
              "      <td>Adventure</td>\n",
              "      <td>Drama</td>\n",
              "    </tr>\n",
              "    <tr>\n",
              "      <th>1998</th>\n",
              "      <td>Drama</td>\n",
              "      <td>Drama</td>\n",
              "    </tr>\n",
              "    <tr>\n",
              "      <th>1999</th>\n",
              "      <td>Crime</td>\n",
              "      <td>Drama</td>\n",
              "    </tr>\n",
              "  </tbody>\n",
              "</table>\n",
              "<p>2000 rows × 2 columns</p>\n",
              "</div>"
            ],
            "text/plain": [
              "                  genre_1               genre_2\n",
              "0                  Comedy     Drama            \n",
              "1                   Drama    Family            \n",
              "2                  Comedy                 Drama\n",
              "3                  Action                 Crime\n",
              "4                  Action             Biography\n",
              "...                   ...                   ...\n",
              "1995               Horror   Mystery            \n",
              "1996  Romance               Romance            \n",
              "1997            Adventure                 Drama\n",
              "1998    Drama                 Drama            \n",
              "1999                Crime                 Drama\n",
              "\n",
              "[2000 rows x 2 columns]"
            ]
          },
          "metadata": {},
          "execution_count": 18
        }
      ]
    },
    {
      "cell_type": "code",
      "metadata": {
        "colab": {
          "base_uri": "https://localhost:8080/",
          "height": 635
        },
        "id": "StHgCLyYJwna",
        "outputId": "ce40370f-26ab-4525-8fda-452524b60db2"
      },
      "source": [
        "movies = pd.concat([movies,TempGenre],axis=1)\n",
        "movies"
      ],
      "execution_count": 19,
      "outputs": [
        {
          "output_type": "execute_result",
          "data": {
            "text/html": [
              "<div>\n",
              "<style scoped>\n",
              "    .dataframe tbody tr th:only-of-type {\n",
              "        vertical-align: middle;\n",
              "    }\n",
              "\n",
              "    .dataframe tbody tr th {\n",
              "        vertical-align: top;\n",
              "    }\n",
              "\n",
              "    .dataframe thead th {\n",
              "        text-align: right;\n",
              "    }\n",
              "</style>\n",
              "<table border=\"1\" class=\"dataframe\">\n",
              "  <thead>\n",
              "    <tr style=\"text-align: right;\">\n",
              "      <th></th>\n",
              "      <th>Unnamed: 0</th>\n",
              "      <th>Movie_Title</th>\n",
              "      <th>Year_of_Release</th>\n",
              "      <th>Director</th>\n",
              "      <th>Genre</th>\n",
              "      <th>Runtime</th>\n",
              "      <th>IMDb_Rating</th>\n",
              "      <th>IMDb_Votes</th>\n",
              "      <th>Metascore</th>\n",
              "      <th>Gross</th>\n",
              "      <th>Plot_Outline</th>\n",
              "      <th>genre_1</th>\n",
              "      <th>genre_2</th>\n",
              "    </tr>\n",
              "  </thead>\n",
              "  <tbody>\n",
              "    <tr>\n",
              "      <th>0</th>\n",
              "      <td>0</td>\n",
              "      <td>3 Idiots</td>\n",
              "      <td>2009</td>\n",
              "      <td>Director:Rajkumar Hirani</td>\n",
              "      <td>Comedy, Drama</td>\n",
              "      <td>170 min</td>\n",
              "      <td>8.4</td>\n",
              "      <td>3,64,795</td>\n",
              "      <td>67</td>\n",
              "      <td>$6.53M</td>\n",
              "      <td>Two friends are searching for their long lost ...</td>\n",
              "      <td>Comedy</td>\n",
              "      <td>Drama</td>\n",
              "    </tr>\n",
              "    <tr>\n",
              "      <th>1</th>\n",
              "      <td>1</td>\n",
              "      <td>Like Stars on Earth</td>\n",
              "      <td>2007</td>\n",
              "      <td>Directors:Aamir Khan,Amole Gupte</td>\n",
              "      <td>Drama, Family</td>\n",
              "      <td>165 min</td>\n",
              "      <td>8.4</td>\n",
              "      <td>1,79,308</td>\n",
              "      <td></td>\n",
              "      <td>$1.22M</td>\n",
              "      <td>An eight-year-old boy is thought to be a lazy ...</td>\n",
              "      <td>Drama</td>\n",
              "      <td>Family</td>\n",
              "    </tr>\n",
              "    <tr>\n",
              "      <th>2</th>\n",
              "      <td>2</td>\n",
              "      <td>PK</td>\n",
              "      <td>2014</td>\n",
              "      <td>Director:Rajkumar Hirani</td>\n",
              "      <td>Comedy, Drama, Musical</td>\n",
              "      <td>153 min</td>\n",
              "      <td>8.1</td>\n",
              "      <td>1,71,288</td>\n",
              "      <td></td>\n",
              "      <td>$10.62M</td>\n",
              "      <td>An alien on Earth loses the only device he can...</td>\n",
              "      <td>Comedy</td>\n",
              "      <td>Drama</td>\n",
              "    </tr>\n",
              "    <tr>\n",
              "      <th>3</th>\n",
              "      <td>3</td>\n",
              "      <td>Radhe</td>\n",
              "      <td>2021</td>\n",
              "      <td>Director:Prabhu Deva</td>\n",
              "      <td>Action, Crime, Thriller</td>\n",
              "      <td>135 min</td>\n",
              "      <td>1.8</td>\n",
              "      <td>1,70,717</td>\n",
              "      <td></td>\n",
              "      <td></td>\n",
              "      <td>After taking the dreaded gangster Gani Bhai, A...</td>\n",
              "      <td>Action</td>\n",
              "      <td>Crime</td>\n",
              "    </tr>\n",
              "    <tr>\n",
              "      <th>4</th>\n",
              "      <td>4</td>\n",
              "      <td>Dangal</td>\n",
              "      <td>2016</td>\n",
              "      <td>Director:Nitesh Tiwari</td>\n",
              "      <td>Action, Biography, Drama</td>\n",
              "      <td>161 min</td>\n",
              "      <td>8.4</td>\n",
              "      <td>1,69,425</td>\n",
              "      <td></td>\n",
              "      <td>$12.39M</td>\n",
              "      <td>Former wrestler Mahavir Singh Phogat and his t...</td>\n",
              "      <td>Action</td>\n",
              "      <td>Biography</td>\n",
              "    </tr>\n",
              "    <tr>\n",
              "      <th>...</th>\n",
              "      <td>...</td>\n",
              "      <td>...</td>\n",
              "      <td>...</td>\n",
              "      <td>...</td>\n",
              "      <td>...</td>\n",
              "      <td>...</td>\n",
              "      <td>...</td>\n",
              "      <td>...</td>\n",
              "      <td>...</td>\n",
              "      <td>...</td>\n",
              "      <td>...</td>\n",
              "      <td>...</td>\n",
              "      <td>...</td>\n",
              "    </tr>\n",
              "    <tr>\n",
              "      <th>1995</th>\n",
              "      <td>1995</td>\n",
              "      <td>Sannata</td>\n",
              "      <td>1981</td>\n",
              "      <td>Directors:Shyam Ramsay,Tulsi Ramsay</td>\n",
              "      <td>Horror, Mystery</td>\n",
              "      <td>125 min</td>\n",
              "      <td>6.5</td>\n",
              "      <td>49</td>\n",
              "      <td></td>\n",
              "      <td></td>\n",
              "      <td>Girdharilal a wealthy business man is murdered...</td>\n",
              "      <td>Horror</td>\n",
              "      <td>Mystery</td>\n",
              "    </tr>\n",
              "    <tr>\n",
              "      <th>1996</th>\n",
              "      <td>1996</td>\n",
              "      <td>Phir Kab Milogi</td>\n",
              "      <td>1974</td>\n",
              "      <td>Director:Hrishikesh Mukherjee</td>\n",
              "      <td>Romance</td>\n",
              "      <td>132 min</td>\n",
              "      <td>6.3</td>\n",
              "      <td>49</td>\n",
              "      <td></td>\n",
              "      <td></td>\n",
              "      <td>Sapna (Mala Sinha) is having fun meeting his e...</td>\n",
              "      <td>Romance</td>\n",
              "      <td>Romance</td>\n",
              "    </tr>\n",
              "    <tr>\n",
              "      <th>1997</th>\n",
              "      <td>1997</td>\n",
              "      <td>Parasmani</td>\n",
              "      <td>1963</td>\n",
              "      <td>Director:Babubhai Mistry</td>\n",
              "      <td>Adventure, Drama, Fantasy</td>\n",
              "      <td>137 min</td>\n",
              "      <td>6.4</td>\n",
              "      <td>49</td>\n",
              "      <td></td>\n",
              "      <td></td>\n",
              "      <td>Paras delights the Emperor with his singing. H...</td>\n",
              "      <td>Adventure</td>\n",
              "      <td>Drama</td>\n",
              "    </tr>\n",
              "    <tr>\n",
              "      <th>1998</th>\n",
              "      <td>1998</td>\n",
              "      <td>Man Ki Aankhen</td>\n",
              "      <td>1970</td>\n",
              "      <td>Director:Raghunath Jhalani</td>\n",
              "      <td>Drama</td>\n",
              "      <td></td>\n",
              "      <td>6.6</td>\n",
              "      <td>49</td>\n",
              "      <td></td>\n",
              "      <td></td>\n",
              "      <td>After working as a teacher in Delhi for severa...</td>\n",
              "      <td>Drama</td>\n",
              "      <td>Drama</td>\n",
              "    </tr>\n",
              "    <tr>\n",
              "      <th>1999</th>\n",
              "      <td>1999</td>\n",
              "      <td>Dulhan Ek Raat Ki</td>\n",
              "      <td>1967</td>\n",
              "      <td>Director:D.D. Kashyap</td>\n",
              "      <td>Crime, Drama, Music</td>\n",
              "      <td>170 min</td>\n",
              "      <td>6.7</td>\n",
              "      <td>49</td>\n",
              "      <td></td>\n",
              "      <td></td>\n",
              "      <td>Arrogant son of a wealthy, blind woman, rapes ...</td>\n",
              "      <td>Crime</td>\n",
              "      <td>Drama</td>\n",
              "    </tr>\n",
              "  </tbody>\n",
              "</table>\n",
              "<p>2000 rows × 13 columns</p>\n",
              "</div>"
            ],
            "text/plain": [
              "      Unnamed: 0  ...               genre_2\n",
              "0              0  ...     Drama            \n",
              "1              1  ...    Family            \n",
              "2              2  ...                 Drama\n",
              "3              3  ...                 Crime\n",
              "4              4  ...             Biography\n",
              "...          ...  ...                   ...\n",
              "1995        1995  ...   Mystery            \n",
              "1996        1996  ...   Romance            \n",
              "1997        1997  ...                 Drama\n",
              "1998        1998  ...     Drama            \n",
              "1999        1999  ...                 Drama\n",
              "\n",
              "[2000 rows x 13 columns]"
            ]
          },
          "metadata": {},
          "execution_count": 19
        }
      ]
    },
    {
      "cell_type": "code",
      "metadata": {
        "colab": {
          "base_uri": "https://localhost:8080/",
          "height": 161
        },
        "id": "FyUTcOIoMrbr",
        "outputId": "8e72046a-5040-4d20-efe8-1c230dbe0edd"
      },
      "source": [
        "movies.IMDb_Votes = movies['IMDb_Votes'].str.replace(\",\", \"\")\n",
        "movies.head(2)"
      ],
      "execution_count": 28,
      "outputs": [
        {
          "output_type": "execute_result",
          "data": {
            "text/html": [
              "<div>\n",
              "<style scoped>\n",
              "    .dataframe tbody tr th:only-of-type {\n",
              "        vertical-align: middle;\n",
              "    }\n",
              "\n",
              "    .dataframe tbody tr th {\n",
              "        vertical-align: top;\n",
              "    }\n",
              "\n",
              "    .dataframe thead th {\n",
              "        text-align: right;\n",
              "    }\n",
              "</style>\n",
              "<table border=\"1\" class=\"dataframe\">\n",
              "  <thead>\n",
              "    <tr style=\"text-align: right;\">\n",
              "      <th></th>\n",
              "      <th>Unnamed: 0</th>\n",
              "      <th>Movie_Title</th>\n",
              "      <th>Year_of_Release</th>\n",
              "      <th>Director</th>\n",
              "      <th>Genre</th>\n",
              "      <th>Runtime</th>\n",
              "      <th>IMDb_Rating</th>\n",
              "      <th>IMDb_Votes</th>\n",
              "      <th>Metascore</th>\n",
              "      <th>Gross</th>\n",
              "      <th>Plot_Outline</th>\n",
              "      <th>genre_1</th>\n",
              "      <th>genre_2</th>\n",
              "    </tr>\n",
              "  </thead>\n",
              "  <tbody>\n",
              "    <tr>\n",
              "      <th>0</th>\n",
              "      <td>0</td>\n",
              "      <td>3 Idiots</td>\n",
              "      <td>2009</td>\n",
              "      <td>Director:Rajkumar Hirani</td>\n",
              "      <td>Comedy, Drama</td>\n",
              "      <td>170 min</td>\n",
              "      <td>8.4</td>\n",
              "      <td>364795</td>\n",
              "      <td>67</td>\n",
              "      <td>$6.53M</td>\n",
              "      <td>Two friends are searching for their long lost ...</td>\n",
              "      <td>Comedy</td>\n",
              "      <td>Drama</td>\n",
              "    </tr>\n",
              "    <tr>\n",
              "      <th>1</th>\n",
              "      <td>1</td>\n",
              "      <td>Like Stars on Earth</td>\n",
              "      <td>2007</td>\n",
              "      <td>Directors:Aamir Khan,Amole Gupte</td>\n",
              "      <td>Drama, Family</td>\n",
              "      <td>165 min</td>\n",
              "      <td>8.4</td>\n",
              "      <td>179308</td>\n",
              "      <td></td>\n",
              "      <td>$1.22M</td>\n",
              "      <td>An eight-year-old boy is thought to be a lazy ...</td>\n",
              "      <td>Drama</td>\n",
              "      <td>Family</td>\n",
              "    </tr>\n",
              "  </tbody>\n",
              "</table>\n",
              "</div>"
            ],
            "text/plain": [
              "   Unnamed: 0          Movie_Title  ... genre_1              genre_2\n",
              "0           0             3 Idiots  ...  Comedy    Drama            \n",
              "1           1  Like Stars on Earth  ...   Drama   Family            \n",
              "\n",
              "[2 rows x 13 columns]"
            ]
          },
          "metadata": {},
          "execution_count": 28
        }
      ]
    },
    {
      "cell_type": "code",
      "metadata": {
        "colab": {
          "base_uri": "https://localhost:8080/"
        },
        "id": "bg19wc7vEPlX",
        "outputId": "ac1fce7e-08b4-4090-cfb1-0dd8837f7d9a"
      },
      "source": [
        "movies['IMDb_Votes'] = movies['IMDb_Votes'].astype(int)\n",
        "movies.info()"
      ],
      "execution_count": 31,
      "outputs": [
        {
          "output_type": "stream",
          "text": [
            "<class 'pandas.core.frame.DataFrame'>\n",
            "Int64Index: 2000 entries, 0 to 1999\n",
            "Data columns (total 13 columns):\n",
            " #   Column           Non-Null Count  Dtype  \n",
            "---  ------           --------------  -----  \n",
            " 0   Unnamed: 0       2000 non-null   int64  \n",
            " 1   Movie_Title      2000 non-null   object \n",
            " 2   Year_of_Release  2000 non-null   object \n",
            " 3   Director         1998 non-null   object \n",
            " 4   Genre            2000 non-null   object \n",
            " 5   Runtime          2000 non-null   object \n",
            " 6   IMDb_Rating      2000 non-null   float64\n",
            " 7   IMDb_Votes       2000 non-null   int64  \n",
            " 8   Metascore        2000 non-null   object \n",
            " 9   Gross            2000 non-null   object \n",
            " 10  Plot_Outline     2000 non-null   object \n",
            " 11  genre_1          2000 non-null   object \n",
            " 12  genre_2          2000 non-null   object \n",
            "dtypes: float64(1), int64(2), object(10)\n",
            "memory usage: 218.8+ KB\n"
          ],
          "name": "stdout"
        }
      ]
    },
    {
      "cell_type": "markdown",
      "metadata": {
        "id": "tlsJqtkHFrna"
      },
      "source": [
        "Genre Distribution"
      ]
    },
    {
      "cell_type": "code",
      "metadata": {
        "colab": {
          "base_uri": "https://localhost:8080/"
        },
        "id": "b6BWl3UyFQSC",
        "outputId": "c2949296-c214-4b65-e5f4-3e83bcdaea91"
      },
      "source": [
        "genres = movies.groupby(['genre_1','genre_2']).IMDb_Votes.mean().sort_values(ascending=False)\n",
        "genres"
      ],
      "execution_count": 62,
      "outputs": [
        {
          "output_type": "execute_result",
          "data": {
            "text/plain": [
              "genre_1    genre_2             \n",
              "Action      Biography              29763.1\n",
              "Biography   Comedy                 28950.5\n",
              "Action      Sci-Fi                 22445.0\n",
              "Drama       History                13980.0\n",
              "            Music                  12704.5\n",
              "                                    ...   \n",
              "Comedy      War                       60.0\n",
              "Music       Romance                   56.0\n",
              "Adventure   Drama                     56.0\n",
              "Romance     Drama                     55.5\n",
              "Action      Horror                    53.0\n",
              "Name: IMDb_Votes, Length: 136, dtype: float64"
            ]
          },
          "metadata": {},
          "execution_count": 62
        }
      ]
    },
    {
      "cell_type": "code",
      "metadata": {
        "colab": {
          "base_uri": "https://localhost:8080/",
          "height": 350
        },
        "id": "YbBoSyUFKPBi",
        "outputId": "3dd8f6d3-7340-4e0a-d3ce-c12f855c4513"
      },
      "source": [
        "movies.plot(x='genre_1',y=['IMDb_Votes'],kind='line')\n",
        "plt.xticks(rotation=-50)"
      ],
      "execution_count": 76,
      "outputs": [
        {
          "output_type": "execute_result",
          "data": {
            "text/plain": [
              "(array([-250.,    0.,  250.,  500.,  750., 1000., 1250., 1500., 1750.,\n",
              "        2000., 2250.]), <a list of 11 Text major ticklabel objects>)"
            ]
          },
          "metadata": {},
          "execution_count": 76
        },
        {
          "output_type": "display_data",
          "data": {
            "image/png": "[encoded data removed]",
            "text/plain": [
              "<Figure size 432x288 with 1 Axes>"
            ]
          },
          "metadata": {
            "needs_background": "light"
          }
        }
      ]
    },
    {
      "cell_type": "markdown",
      "metadata": {
        "id": "2aUgl9ZkHufn"
      },
      "source": [
        "Top10 Directors"
      ]
    },
    {
      "cell_type": "code",
      "metadata": {
        "colab": {
          "base_uri": "https://localhost:8080/"
        },
        "id": "6NeHAnCxJmqh",
        "outputId": "2ef1b80c-b05b-4bd7-8092-ea9806d49153"
      },
      "source": [
        "top10director = movies.groupby('Director').IMDb_Votes.mean().sort_values(ascending=False).head(10)\n",
        "top10director"
      ],
      "execution_count": 36,
      "outputs": [
        {
          "output_type": "execute_result",
          "data": {
            "text/plain": [
              "Director\n",
              "Directors:Aamir Khan,Amole Gupte                      179308.0\n",
              "Director:Rajkumar Hirani                              165942.0\n",
              "Director:Mukesh Chhabra                               122907.0\n",
              "Director:Nitesh Tiwari                                 84763.5\n",
              "Director:Shimit Amin                                   77079.0\n",
              "Director:Rakeysh Omprakash Mehra                       62573.0\n",
              "Director:Vishnuvardhan                                 58591.0\n",
              "Director:Anthony Maras                                 57465.0\n",
              "Directors:Lawrence Raghavendra,Balakrishnan Thevar     55195.0\n",
              "Director:Ramin Bahrani                                 52992.0\n",
              "Name: IMDb_Votes, dtype: float64"
            ]
          },
          "metadata": {},
          "execution_count": 36
        }
      ]
    },
    {
      "cell_type": "markdown",
      "metadata": {
        "id": "w2FWx7e-H0De"
      },
      "source": [
        "Plot of IMDb Votes"
      ]
    },
    {
      "cell_type": "code",
      "metadata": {
        "colab": {
          "base_uri": "https://localhost:8080/",
          "height": 334
        },
        "id": "_dIVi0JGGARi",
        "outputId": "0c0b1203-61e8-4a1d-9b3f-6208743fd448"
      },
      "source": [
        "sns.distplot(movies['IMDb_Votes'])\n",
        "plt.show()"
      ],
      "execution_count": 55,
      "outputs": [
        {
          "output_type": "stream",
          "text": [
            "/usr/local/lib/python3.7/dist-packages/seaborn/distributions.py:2557: FutureWarning: `distplot` is a deprecated function and will be removed in a future version. Please adapt your code to use either `displot` (a figure-level function with similar flexibility) or `histplot` (an axes-level function for histograms).\n",
            "  warnings.warn(msg, FutureWarning)\n"
          ],
          "name": "stderr"
        },
        {
          "output_type": "display_data",
          "data": {
            "image/png": "[encoded data removed]",
            "text/plain": [
              "<Figure size 432x288 with 1 Axes>"
            ]
          },
          "metadata": {
            "needs_background": "light"
          }
        }
      ]
    },
    {
      "cell_type": "code",
      "metadata": {
        "colab": {
          "base_uri": "https://localhost:8080/",
          "height": 281
        },
        "id": "SG-qbcUPIbaA",
        "outputId": "a5cd0d6e-7b5f-424d-e555-d70a283fe127"
      },
      "source": [
        "sns.barplot(x='Movie_Title',y='IMDb_Votes',data=movies)\n",
        "plt.show()"
      ],
      "execution_count": 56,
      "outputs": [
        {
          "output_type": "display_data",
          "data": {
            "image/png": "[encoded data removed]",
            "text/plain": [
              "<Figure size 432x288 with 1 Axes>"
            ]
          },
          "metadata": {
            "needs_background": "light"
          }
        }
      ]
    },
    {
      "cell_type": "markdown",
      "metadata": {
        "id": "Ml9XEpEWJLVz"
      },
      "source": [
        "Correlation Map"
      ]
    },
    {
      "cell_type": "code",
      "metadata": {
        "colab": {
          "base_uri": "https://localhost:8080/",
          "height": 270
        },
        "id": "JtY5vkoUJHfu",
        "outputId": "07857fce-9ee9-45d2-d2e0-fd66b4e82ec0"
      },
      "source": [
        "tc = movies.corr()\n",
        "sns.heatmap(tc)\n",
        "plt.show()"
      ],
      "execution_count": 57,
      "outputs": [
        {
          "output_type": "display_data",
          "data": {
            "image/png": "[encoded data removed]",
            "text/plain": [
              "<Figure size 432x288 with 2 Axes>"
            ]
          },
          "metadata": {
            "needs_background": "light"
          }
        }
      ]
    },
    {
      "cell_type": "code",
      "metadata": {
        "colab": {
          "base_uri": "https://localhost:8080/",
          "height": 561
        },
        "id": "l25LEQs2I1Yl",
        "outputId": "4817166c-0882-4376-d62a-1b4dec5509ec"
      },
      "source": [
        "import matplotlib.pyplot as plt\n",
        "movies.plot()\n",
        "movies.show()"
      ],
      "execution_count": 58,
      "outputs": [
        {
          "output_type": "error",
          "ename": "AttributeError",
          "evalue": "ignored",
          "traceback": [
            "\u001b[0;31m---------------------------------------------------------------------------\u001b[0m",
            "\u001b[0;31mAttributeError\u001b[0m                            Traceback (most recent call last)",
            "\u001b[0;32m<ipython-input-58-9172d071109d>\u001b[0m in \u001b[0;36m<module>\u001b[0;34m()\u001b[0m\n\u001b[1;32m      1\u001b[0m \u001b[0;32mimport\u001b[0m \u001b[0mmatplotlib\u001b[0m\u001b[0;34m.\u001b[0m\u001b[0mpyplot\u001b[0m \u001b[0;32mas\u001b[0m \u001b[0mplt\u001b[0m\u001b[0;34m\u001b[0m\u001b[0;34m\u001b[0m\u001b[0m\n\u001b[1;32m      2\u001b[0m \u001b[0mmovies\u001b[0m\u001b[0;34m.\u001b[0m\u001b[0mplot\u001b[0m\u001b[0;34m(\u001b[0m\u001b[0;34m)\u001b[0m\u001b[0;34m\u001b[0m\u001b[0;34m\u001b[0m\u001b[0m\n\u001b[0;32m----> 3\u001b[0;31m \u001b[0mmovies\u001b[0m\u001b[0;34m.\u001b[0m\u001b[0mshow\u001b[0m\u001b[0;34m(\u001b[0m\u001b[0;34m)\u001b[0m\u001b[0;34m\u001b[0m\u001b[0;34m\u001b[0m\u001b[0m\n\u001b[0m",
            "\u001b[0;32m/usr/local/lib/python3.7/dist-packages/pandas/core/generic.py\u001b[0m in \u001b[0;36m__getattr__\u001b[0;34m(self, name)\u001b[0m\n\u001b[1;32m   5139\u001b[0m             \u001b[0;32mif\u001b[0m \u001b[0mself\u001b[0m\u001b[0;34m.\u001b[0m\u001b[0m_info_axis\u001b[0m\u001b[0;34m.\u001b[0m\u001b[0m_can_hold_identifiers_and_holds_name\u001b[0m\u001b[0;34m(\u001b[0m\u001b[0mname\u001b[0m\u001b[0;34m)\u001b[0m\u001b[0;34m:\u001b[0m\u001b[0;34m\u001b[0m\u001b[0;34m\u001b[0m\u001b[0m\n\u001b[1;32m   5140\u001b[0m                 \u001b[0;32mreturn\u001b[0m \u001b[0mself\u001b[0m\u001b[0;34m[\u001b[0m\u001b[0mname\u001b[0m\u001b[0;34m]\u001b[0m\u001b[0;34m\u001b[0m\u001b[0;34m\u001b[0m\u001b[0m\n\u001b[0;32m-> 5141\u001b[0;31m             \u001b[0;32mreturn\u001b[0m \u001b[0mobject\u001b[0m\u001b[0;34m.\u001b[0m\u001b[0m__getattribute__\u001b[0m\u001b[0;34m(\u001b[0m\u001b[0mself\u001b[0m\u001b[0;34m,\u001b[0m \u001b[0mname\u001b[0m\u001b[0;34m)\u001b[0m\u001b[0;34m\u001b[0m\u001b[0;34m\u001b[0m\u001b[0m\n\u001b[0m\u001b[1;32m   5142\u001b[0m \u001b[0;34m\u001b[0m\u001b[0m\n\u001b[1;32m   5143\u001b[0m     \u001b[0;32mdef\u001b[0m \u001b[0m__setattr__\u001b[0m\u001b[0;34m(\u001b[0m\u001b[0mself\u001b[0m\u001b[0;34m,\u001b[0m \u001b[0mname\u001b[0m\u001b[0;34m:\u001b[0m \u001b[0mstr\u001b[0m\u001b[0;34m,\u001b[0m \u001b[0mvalue\u001b[0m\u001b[0;34m)\u001b[0m \u001b[0;34m->\u001b[0m \u001b[0;32mNone\u001b[0m\u001b[0;34m:\u001b[0m\u001b[0;34m\u001b[0m\u001b[0;34m\u001b[0m\u001b[0m\n",
            "\u001b[0;31mAttributeError\u001b[0m: 'DataFrame' object has no attribute 'show'"
          ]
        },
        {
          "output_type": "display_data",
          "data": {
            "image/png": "[encoded data removed]",
            "text/plain": [
              "<Figure size 432x288 with 1 Axes>"
            ]
          },
          "metadata": {
            "needs_background": "light"
          }
        }
      ]
    },
    {
      "cell_type": "code",
      "metadata": {
        "id": "QFwlrwVpJYp7"
      },
      "source": [
        ""
      ],
      "execution_count": null,
      "outputs": []
    },
    {
      "cell_type": "code",
      "metadata": {
        "id": "eHiu1YAJK9_-"
      },
      "source": [
        ""
      ],
      "execution_count": null,
      "outputs": []
    }
  ]
}